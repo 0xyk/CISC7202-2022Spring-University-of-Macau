{
 "cells": [
  {
   "cell_type": "markdown",
   "metadata": {},
   "source": [
    "# Assignment 1: Regression \n",
    "\n",
    "For this assignment, you have four tasks on the dataset diabetes. The dataset is splitted into training and test data with fix seed (random_state fixed) to ensure the reproducibility.\n",
    "- Task 1: Fit a linear regression model on training data and evaluate mean_squared_error on testing data\n",
    "- Task 2: Feature selection using Lasso regression on training data and report the top 4 most informative features\n",
    "- Task 3: Fit a kernel regression model with the top 4 features and report the mean_squared_error on testing data\n",
    "- Task 4: Get better performance (lower mean_squared_error on testing data using a model trained on the training data) with any models/hyperparamters/options (mentioned in the lecture or beyond the lecture. The smaller test error you have, the more points you will receive (like a data science competition). Enjoy!\n"
   ]
  },
  {
   "cell_type": "code",
   "execution_count": 1,
   "metadata": {},
   "outputs": [
    {
     "name": "stdout",
     "output_type": "stream",
     "text": [
      "['age', 'sex', 'bmi', 'bp', 's1', 's2', 's3', 's4', 's5', 's6']\n",
      ".. _diabetes_dataset:\n",
      "\n",
      "Diabetes dataset\n",
      "----------------\n",
      "\n",
      "Ten baseline variables, age, sex, body mass index, average blood\n",
      "pressure, and six blood serum measurements were obtained for each of n =\n",
      "442 diabetes patients, as well as the response of interest, a\n",
      "quantitative measure of disease progression one year after baseline.\n",
      "\n",
      "**Data Set Characteristics:**\n",
      "\n",
      "  :Number of Instances: 442\n",
      "\n",
      "  :Number of Attributes: First 10 columns are numeric predictive values\n",
      "\n",
      "  :Target: Column 11 is a quantitative measure of disease progression one year after baseline\n",
      "\n",
      "  :Attribute Information:\n",
      "      - age     age in years\n",
      "      - sex\n",
      "      - bmi     body mass index\n",
      "      - bp      average blood pressure\n",
      "      - s1      tc, T-Cells (a type of white blood cells)\n",
      "      - s2      ldl, low-density lipoproteins\n",
      "      - s3      hdl, high-density lipoproteins\n",
      "      - s4      tch, thyroid stimulating hormone\n",
      "      - s5      ltg, lamotrigine\n",
      "      - s6      glu, blood sugar level\n",
      "\n",
      "Note: Each of these 10 feature variables have been mean centered and scaled by the standard deviation times `n_samples` (i.e. the sum of squares of each column totals 1).\n",
      "\n",
      "Source URL:\n",
      "https://www4.stat.ncsu.edu/~boos/var.select/diabetes.html\n",
      "\n",
      "For more information see:\n",
      "Bradley Efron, Trevor Hastie, Iain Johnstone and Robert Tibshirani (2004) \"Least Angle Regression,\" Annals of Statistics (with discussion), 407-499.\n",
      "(https://web.stanford.edu/~hastie/Papers/LARS/LeastAngle_2002.pdf)\n"
     ]
    }
   ],
   "source": [
    "# Load necessary libraries\n",
    "import numpy as np\n",
    "import matplotlib.pyplot as plt\n",
    "import statsmodels.api as sm\n",
    "from sklearn.linear_model import LinearRegression, Ridge, Lasso, LassoCV\n",
    "from sklearn.model_selection import train_test_split\n",
    "from sklearn.metrics import mean_squared_error\n",
    "from sklearn.model_selection import cross_val_score, GridSearchCV\n",
    "from sklearn.pipeline import make_pipeline\n",
    "from sklearn.preprocessing import PolynomialFeatures, StandardScaler\n",
    "from sklearn.datasets import load_diabetes\n",
    "\n",
    "# Load Dataset: \n",
    "diabetes = load_diabetes()\n",
    "\n",
    "print(diabetes.feature_names)\n",
    "print(diabetes.DESCR)\n",
    "X, y = load_diabetes(return_X_y=True)\n",
    "\n",
    "# slipt Dataset:\n",
    "X_train, X_test, y_train, y_test = train_test_split(X, y, test_size=0.2, random_state=0)"
   ]
  },
  {
   "cell_type": "markdown",
   "metadata": {},
   "source": [
    "## Task 1: Linear Regression \n",
    "Fit a linear regression model on training data and evaluate mean_squared_error on testing data"
   ]
  },
  {
   "cell_type": "code",
   "execution_count": 2,
   "metadata": {},
   "outputs": [
    {
     "name": "stdout",
     "output_type": "stream",
     "text": [
      "mean_squared_error is :\n",
      "3424.316688213733\n"
     ]
    }
   ],
   "source": [
    "# define and fit your regression model\n",
    "model = LinearRegression(fit_intercept=True)\n",
    "model.fit(X_train, y_train)\n",
    "\n",
    "# prediction on testing data\n",
    "y_pred = model.predict(X_test)\n",
    "\n",
    "# evaluate the prediction on testing data\n",
    "print(\"mean_squared_error is :\")\n",
    "print(mean_squared_error(y_test, y_pred))"
   ]
  },
  {
   "cell_type": "markdown",
   "metadata": {},
   "source": [
    "## Task 2: Feature Selection \n",
    "#### Part 1: Find optimal alpha for Lasso using cross validation (GridSearchCV)"
   ]
  },
  {
   "cell_type": "code",
   "execution_count": 3,
   "metadata": {},
   "outputs": [
    {
     "name": "stdout",
     "output_type": "stream",
     "text": [
      "Best parameters set found on training set:\n",
      "{'alpha': 0.02}\n"
     ]
    }
   ],
   "source": [
    "# alpha range\n",
    "tuned_parameters = [{'alpha': [0.01, 0.02, 0.05, 0.1, 0.2, 0.5, 1, 2]}]\n",
    "\n",
    "# grid search cross validation on Lasso w.r.t. alpha\n",
    "gs = GridSearchCV(Lasso(fit_intercept=True), tuned_parameters, scoring='neg_mean_squared_error', cv=5)\n",
    "gs.fit(X_train, y_train)\n",
    "print(\"Best parameters set found on training set:\")\n",
    "print(gs.best_params_)"
   ]
  },
  {
   "cell_type": "markdown",
   "metadata": {},
   "source": [
    "#### Part 2: Using the optimal alpha, find the top 4 most informative/useful features"
   ]
  },
  {
   "cell_type": "code",
   "execution_count": 4,
   "metadata": {},
   "outputs": [
    {
     "name": "stdout",
     "output_type": "stream",
     "text": [
      "Lasso coef: [ -19.71806138 -225.30786454  567.7680786   287.2091127  -223.21051814\n",
      "   -0.         -179.89846191   76.44365845  573.53367285   37.61455519]\n"
     ]
    }
   ],
   "source": [
    "# use the optimal alpha, fit Lasso model\n",
    "model = Lasso(alpha = 0.02, fit_intercept=True)\n",
    "model.fit(X_train, y_train)\n",
    "\n",
    "# after fitting the model, print the coefficient and find the top 4 features\n",
    "print(\"Lasso coef:\", model.coef_)"
   ]
  },
  {
   "cell_type": "raw",
   "metadata": {},
   "source": [
    "# What is the top 4 most informative/useful features? Write their feature names by referring to the descirption of the dataset (write your anwser below):\n",
    "1. s5      ltg, lamotrigine\n",
    "2. bmi     body mass index\n",
    "3. bp      average blood pressure\n",
    "4. sex"
   ]
  },
  {
   "cell_type": "markdown",
   "metadata": {},
   "source": [
    "## Task 3: Kernel Regression with Top 4 Features\n",
    "Fit a kernel regression model with the top 4 features and report the mean_squared_error on testing data"
   ]
  },
  {
   "cell_type": "code",
   "execution_count": 5,
   "metadata": {},
   "outputs": [
    {
     "name": "stdout",
     "output_type": "stream",
     "text": [
      "mean_squared_error is :\n",
      "3353.2438025814304\n"
     ]
    }
   ],
   "source": [
    "# select the top 4 features\n",
    "X_train_top4 = X_train[:,[8, 2, 3, 1]]\n",
    "X_test_top4 = X_test[:,[8, 2, 3, 1]]\n",
    "\n",
    "# fit kernel regression model\n",
    "KernelReg = sm.nonparametric.KernelReg\n",
    "model = KernelReg(y_train, X_train_top4, reg_type='ll',var_type='cccc', ckertype = 'gaussian')\n",
    "y_pred , mfx = model.fit(X_test_top4)\n",
    "print(\"mean_squared_error is :\")\n",
    "print(mean_squared_error(y_test, y_pred))"
   ]
  },
  {
   "cell_type": "markdown",
   "metadata": {},
   "source": [
    "## Task 4: Even higher performance\n"
   ]
  },
  {
   "cell_type": "code",
   "execution_count": 6,
   "metadata": {},
   "outputs": [
    {
     "name": "stdout",
     "output_type": "stream",
     "text": [
      "mean_squared_error is :\n",
      "3201.4548976261594\n"
     ]
    }
   ],
   "source": [
    "# This is your playground, try to improve the performance! \n",
    "from sklearn.neighbors import KNeighborsRegressor\n",
    "\n",
    "def kernel(distance):\n",
    "    kernel_width = 5\n",
    "    weights = np.exp(-(distance**2)/kernel_width)\n",
    "    return weights\n",
    "\n",
    "knn = KNeighborsRegressor(n_neighbors = 15, weights = kernel, metric = 'chebyshev', n_jobs = -1)\n",
    "knn.fit(X_train, y_train)\n",
    "y_pred = knn.predict(X_test)\n",
    "cost = mean_squared_error(y_test, y_pred)\n",
    "print(\"mean_squared_error is :\")\n",
    "print(cost)"
   ]
  }
 ],
 "metadata": {
  "kernelspec": {
   "display_name": "Python 3",
   "language": "python",
   "name": "python3"
  },
  "language_info": {
   "codemirror_mode": {
    "name": "ipython",
    "version": 3
   },
   "file_extension": ".py",
   "mimetype": "text/x-python",
   "name": "python",
   "nbconvert_exporter": "python",
   "pygments_lexer": "ipython3",
   "version": "3.8.8"
  }
 },
 "nbformat": 4,
 "nbformat_minor": 4
}

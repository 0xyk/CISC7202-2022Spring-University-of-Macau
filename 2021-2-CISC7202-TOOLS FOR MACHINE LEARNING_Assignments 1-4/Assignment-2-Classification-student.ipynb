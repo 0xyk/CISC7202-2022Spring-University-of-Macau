{
 "cells": [
  {
   "cell_type": "markdown",
   "metadata": {},
   "source": [
    "# Assignment 2: Classification \n",
    "\n",
    "For this assignment, you have three tasks on the dataset penguins (with missing data). \n",
    "- Task 1: Feature engineering (20%)\n",
    "- Task 2: Implement and try different classification techniques (40%)\n",
    "- Task 3: Hyperparameter tuning via cross validation, using Randomized Search when applicable (40%)\n"
   ]
  },
  {
   "cell_type": "code",
   "execution_count": 1,
   "metadata": {},
   "outputs": [
    {
     "name": "stdout",
     "output_type": "stream",
     "text": [
      "Penguin dataset\n",
      "  species     island  bill_length_mm  bill_depth_mm  flipper_length_mm  \\\n",
      "0  Adelie  Torgersen            39.1           18.7              181.0   \n",
      "1  Adelie  Torgersen            39.5           17.4              186.0   \n",
      "2  Adelie  Torgersen            40.3           18.0              195.0   \n",
      "3  Adelie  Torgersen             NaN            NaN                NaN   \n",
      "4  Adelie  Torgersen            36.7           19.3              193.0   \n",
      "\n",
      "   body_mass_g     sex  \n",
      "0       3750.0    Male  \n",
      "1       3800.0  Female  \n",
      "2       3250.0  Female  \n",
      "3          NaN     NaN  \n",
      "4       3450.0  Female  \n",
      "Features we use for this assignment\n",
      "[[  39.1   18.7  181.  3750. ]\n",
      " [  39.5   17.4  186.  3800. ]\n",
      " [  40.3   18.   195.  3250. ]\n",
      " [   nan    nan    nan    nan]\n",
      " [  36.7   19.3  193.  3450. ]]\n",
      "[0 0 0 0 0]\n"
     ]
    }
   ],
   "source": [
    "# Load necessary libraries\n",
    "# Do not change the code in this section!\n",
    "import numpy as np\n",
    "import matplotlib.pyplot as plt\n",
    "from sklearn.linear_model import LogisticRegression\n",
    "from sklearn.tree import DecisionTreeClassifier, plot_tree\n",
    "from sklearn.ensemble import GradientBoostingClassifier, RandomForestClassifier\n",
    "from sklearn.svm import SVC\n",
    "from sklearn.naive_bayes import GaussianNB\n",
    "from sklearn.neighbors import KNeighborsClassifier\n",
    "\n",
    "from sklearn.utils.fixes import loguniform\n",
    "from scipy.stats import uniform\n",
    "from sklearn.model_selection import train_test_split, cross_val_score\n",
    "from sklearn.metrics import precision_score, recall_score, f1_score, roc_auc_score, classification_report\n",
    "from sklearn.model_selection import cross_val_score, RandomizedSearchCV, GridSearchCV\n",
    "from sklearn.pipeline import make_pipeline\n",
    "from sklearn.preprocessing import PolynomialFeatures, StandardScaler\n",
    "import pandas as pd\n",
    "import seaborn\n",
    "from sklearn.impute import SimpleImputer\n",
    "import warnings\n",
    "warnings.filterwarnings('ignore')\n",
    "\n",
    "\n",
    "df  = seaborn.load_dataset(\"penguins\")\n",
    "print(\"Penguin dataset\")\n",
    "print(df[:5])\n",
    "\n",
    "X=df[[\"bill_length_mm\",\"bill_depth_mm\",\"flipper_length_mm\",\"body_mass_g\"]].to_numpy() # four numeric features\n",
    "y=pd.Categorical(df[\"species\"], categories=df[\"species\"].unique()).codes # label are penguin species\n",
    "print(\"Features we use for this assignment\")\n",
    "print(X[:5,:])\n",
    "print(y[:5])\n"
   ]
  },
  {
   "cell_type": "markdown",
   "metadata": {},
   "source": [
    "## Task 1: Feature engineering (20%)\n",
    "- Current X may trigger errors due to the missing data. Try to fix this issue. (10%)\n",
    "    - Hint: check sklearn.impute.SimpleImputer, for example.\n",
    "- You can design your own feature engineering pipeline. You are free to use anything you think could help. (10%)\n"
   ]
  },
  {
   "cell_type": "code",
   "execution_count": 2,
   "metadata": {},
   "outputs": [
    {
     "data": {
      "text/plain": [
       "species               0\n",
       "island                0\n",
       "bill_length_mm        2\n",
       "bill_depth_mm         2\n",
       "flipper_length_mm     2\n",
       "body_mass_g           2\n",
       "sex                  11\n",
       "dtype: int64"
      ]
     },
     "execution_count": 2,
     "metadata": {},
     "output_type": "execute_result"
    }
   ],
   "source": [
    "df.isnull().sum()"
   ]
  },
  {
   "cell_type": "code",
   "execution_count": 3,
   "metadata": {},
   "outputs": [
    {
     "data": {
      "text/html": [
       "<div>\n",
       "<style scoped>\n",
       "    .dataframe tbody tr th:only-of-type {\n",
       "        vertical-align: middle;\n",
       "    }\n",
       "\n",
       "    .dataframe tbody tr th {\n",
       "        vertical-align: top;\n",
       "    }\n",
       "\n",
       "    .dataframe thead th {\n",
       "        text-align: right;\n",
       "    }\n",
       "</style>\n",
       "<table border=\"1\" class=\"dataframe\">\n",
       "  <thead>\n",
       "    <tr style=\"text-align: right;\">\n",
       "      <th>island</th>\n",
       "      <th>Biscoe</th>\n",
       "      <th>Dream</th>\n",
       "      <th>Torgersen</th>\n",
       "    </tr>\n",
       "    <tr>\n",
       "      <th>species</th>\n",
       "      <th></th>\n",
       "      <th></th>\n",
       "      <th></th>\n",
       "    </tr>\n",
       "  </thead>\n",
       "  <tbody>\n",
       "    <tr>\n",
       "      <th>Adelie</th>\n",
       "      <td>44</td>\n",
       "      <td>56</td>\n",
       "      <td>52</td>\n",
       "    </tr>\n",
       "    <tr>\n",
       "      <th>Chinstrap</th>\n",
       "      <td>0</td>\n",
       "      <td>68</td>\n",
       "      <td>0</td>\n",
       "    </tr>\n",
       "    <tr>\n",
       "      <th>Gentoo</th>\n",
       "      <td>124</td>\n",
       "      <td>0</td>\n",
       "      <td>0</td>\n",
       "    </tr>\n",
       "  </tbody>\n",
       "</table>\n",
       "</div>"
      ],
      "text/plain": [
       "island     Biscoe  Dream  Torgersen\n",
       "species                            \n",
       "Adelie         44     56         52\n",
       "Chinstrap       0     68          0\n",
       "Gentoo        124      0          0"
      ]
     },
     "execution_count": 3,
     "metadata": {},
     "output_type": "execute_result"
    }
   ],
   "source": [
    "pd.crosstab(index = df['species'], columns = df['island'])"
   ]
  },
  {
   "cell_type": "code",
   "execution_count": 4,
   "metadata": {},
   "outputs": [],
   "source": [
    "# Considering the different species of penguins, different habitat islands, and different genders, \n",
    "# when filling missing values, it should be filled in layers\n",
    "sex=df['sex'].values.reshape(-1,1)  \n",
    "imp_mean=SimpleImputer(missing_values=np.nan,strategy='most_frequent') \n",
    "imp_mean=imp_mean.fit_transform(sex)  \n",
    "df['sex']=imp_mean\n",
    "df['bill_length_mm'] = df.groupby(['species','island','sex'])['bill_length_mm'].transform(lambda v: v.fillna(v.mean()))\n",
    "df['bill_depth_mm'] = df.groupby(['species','island','sex'])['bill_depth_mm'].transform(lambda v: v.fillna(v.mean()))\n",
    "df['flipper_length_mm'] = df.groupby(['species','island','sex'])['flipper_length_mm'].transform(lambda v: v.fillna(v.mean()))\n",
    "df['body_mass_g'] = df.groupby(['species','island','sex'])['body_mass_g'].transform(lambda v: v.fillna(v.mean()))"
   ]
  },
  {
   "cell_type": "code",
   "execution_count": 5,
   "metadata": {},
   "outputs": [
    {
     "data": {
      "text/plain": [
       "species              0\n",
       "island               0\n",
       "bill_length_mm       0\n",
       "bill_depth_mm        0\n",
       "flipper_length_mm    0\n",
       "body_mass_g          0\n",
       "sex                  0\n",
       "dtype: int64"
      ]
     },
     "execution_count": 5,
     "metadata": {},
     "output_type": "execute_result"
    }
   ],
   "source": [
    "df.isnull().sum()"
   ]
  },
  {
   "cell_type": "code",
   "execution_count": 6,
   "metadata": {},
   "outputs": [],
   "source": [
    "X=df[[\"bill_length_mm\",\"bill_depth_mm\",\"flipper_length_mm\",\"body_mass_g\"]].to_numpy()\n",
    "feature=make_pipeline(StandardScaler())\n",
    "feature.fit(X)\n",
    "X=feature.transform(X)"
   ]
  },
  {
   "cell_type": "markdown",
   "metadata": {},
   "source": [
    "## Task 2: Implement and try different classification techniques (40%)\n",
    "\n",
    "- Implement the following classification methods (with DEFAULT parameters, do not set any parameters for the classifiers in this task) and print 5-folds cross validation results on Macro F1 score. Note that in all the tasks in this assignment, we will use 5-fold cross validation score on Macro F1 as our metric. We do not split training and test datasets. So you are required to use all data for training. (30%)\n",
    "    - Logistic Regression: LogisticRegression()\n",
    "    - Decision Tree: DecisionTreeClassifier()\n",
    "    - Gradient Boosting: GradientBoostingClassifier()\n",
    "    - Random Forest: RandomForestClassifier()\n",
    "    - Naive Bayes: GaussianNB()\n",
    "    - Support Vector Machine: SVC()\n",
    "    - K Nearest Neighbor: KNeighborsClassifier()\n",
    "    \n",
    "- Compute and print the averaged Macro F1 score for all above classifiers (with untuned parameters). Better score will receive more points! (10%)\n",
    "    "
   ]
  },
  {
   "cell_type": "code",
   "execution_count": 7,
   "metadata": {},
   "outputs": [
    {
     "name": "stdout",
     "output_type": "stream",
     "text": [
      "CV score of Logistic Regression is 0.989291\n",
      "CV score of Decision Tree is 0.972844\n",
      "CV score of Gradient Boosting is 0.975820\n",
      "CV score of Random Forest is 0.972579\n",
      "CV score of Naive Bayes is 0.964164\n",
      "CV score of Support Vector Machine is 0.978605\n",
      "CV score of K Nearest Neighbor is 0.988988\n"
     ]
    }
   ],
   "source": [
    "X_train, y_train = X, y\n",
    "# Logistic Regression\n",
    "lr = LogisticRegression()\n",
    "lr.fit(X_train, y_train)\n",
    "cv_scores_lr = cross_val_score(lr, X_train, y_train, cv=5, scoring='f1_macro')\n",
    "LogisticRegression_CV_score = np.mean(cv_scores_lr)\n",
    "print(\"CV score of Logistic Regression is %f\" % LogisticRegression_CV_score)\n",
    "\n",
    "# Decision Tree\n",
    "dt = DecisionTreeClassifier() \n",
    "dt.fit(X_train, y_train)\n",
    "cv_scores_dt = cross_val_score(dt, X_train, y_train, cv=5, scoring='f1_macro')\n",
    "DecisionTree_CV_score = np.mean(cv_scores_dt)\n",
    "print(\"CV score of Decision Tree is %f\" % DecisionTree_CV_score)\n",
    "\n",
    "# Gradient Boosting\n",
    "gb = GradientBoostingClassifier()\n",
    "gb.fit(X_train, y_train)\n",
    "cv_scores_gb = cross_val_score(gb, X_train, y_train, cv=5, scoring='f1_macro')\n",
    "GradientBoosting_CV_score = np.mean(cv_scores_gb)\n",
    "print(\"CV score of Gradient Boosting is %f\" % GradientBoosting_CV_score)\n",
    "\n",
    "# Random Forest\n",
    "rf = RandomForestClassifier()\n",
    "rf.fit(X_train, y_train)\n",
    "cv_scores_rf = cross_val_score(rf, X_train, y_train, cv=5, scoring='f1_macro')\n",
    "RandomForest_CV_score = np.mean(cv_scores_rf)\n",
    "print(\"CV score of Random Forest is %f\" % RandomForest_CV_score)\n",
    "\n",
    "# Naive Bayes\n",
    "nb = GaussianNB()\n",
    "nb.fit(X_train, y_train)\n",
    "cv_scores_nb = cross_val_score(nb, X_train, y_train, cv=5, scoring='f1_macro')\n",
    "NaiveBayes_CV_score = np.mean(cv_scores_nb)\n",
    "print(\"CV score of Naive Bayes is %f\" % NaiveBayes_CV_score)\n",
    "\n",
    "# Support Vector Machine\n",
    "svm = SVC()\n",
    "svm.fit(X_train, y_train)\n",
    "cv_scores_svm = cross_val_score(svm, X_train, y_train, cv=5, scoring='f1_macro')\n",
    "SupportVectorMachine_CV_score = np.mean(cv_scores_svm)\n",
    "print(\"CV score of Support Vector Machine is %f\" % SupportVectorMachine_CV_score)\n",
    "\n",
    "# K Nearest Neighbor\n",
    "knn = KNeighborsClassifier()\n",
    "knn.fit(X_train, y_train)\n",
    "cv_scores_knn = cross_val_score(knn, X_train, y_train, cv=5, scoring='f1_macro')\n",
    "KNearestNeighbor_CV_score = np.mean(cv_scores_knn)\n",
    "print(\"CV score of K Nearest Neighbor is %f\" % KNearestNeighbor_CV_score)"
   ]
  },
  {
   "cell_type": "code",
   "execution_count": 8,
   "metadata": {},
   "outputs": [
    {
     "name": "stdout",
     "output_type": "stream",
     "text": [
      "Average CV scores for all seven classifiers is 0.977470\n"
     ]
    }
   ],
   "source": [
    "avg =[LogisticRegression_CV_score,DecisionTree_CV_score,GradientBoosting_CV_score,RandomForest_CV_score,NaiveBayes_CV_score,SupportVectorMachine_CV_score,KNearestNeighbor_CV_score]\n",
    "cv_scores_average_all_classiiers = np.mean(avg)\n",
    "print(\"Average CV scores for all seven classifiers is %f\" % (cv_scores_average_all_classiiers))"
   ]
  },
  {
   "cell_type": "markdown",
   "metadata": {},
   "source": [
    "## Task 3: Hyperparameter tuning via cross validation, using Randomized Search when applicable (40%)\n",
    "\n",
    "- Hyperparameter tuning (Part1~7) using the 5-fold cross validation score on Macro F1 (set scoring='f1_macro' in the code) with the number of iterations for randomized searching n_iter=100. (30%)\n",
    "    - hint: Sometimes you do not need Randomized Search. Because Grid Search is enough and even faster.\n",
    "\n",
    "- You are free to fine-tune any hyperparameters (to any one of the seven classifiers) in Part 8, and try to have better performance on 5-fold cross validation score on Macro F1. Better score will receive more points! (10%)\n"
   ]
  },
  {
   "cell_type": "markdown",
   "metadata": {},
   "source": [
    "### Part 1: Tuning Logistic Regression \n",
    "- Solvers: 'lbfgs', 'liblinear'\n",
    "- C values in log scale from 1e-2 (0.01) to 1e2 (100)"
   ]
  },
  {
   "cell_type": "code",
   "execution_count": 9,
   "metadata": {},
   "outputs": [
    {
     "name": "stdout",
     "output_type": "stream",
     "text": [
      "Best: 0.991304 using {'C': 5.167308608272073, 'solver': 'liblinear'}\n",
      "0.985422 (0.009301) with: {'C': 1.6236109888366081, 'solver': 'liblinear'}\n",
      "0.991304 (0.007100) with: {'C': 5.167308608272073, 'solver': 'liblinear'}\n",
      "0.944714 (0.011190) with: {'C': 0.017635138478045747, 'solver': 'liblinear'}\n",
      "0.970887 (0.015994) with: {'C': 0.04154896372650194, 'solver': 'liblinear'}\n",
      "0.982523 (0.016961) with: {'C': 0.4248441963926956, 'solver': 'lbfgs'}\n",
      "0.970887 (0.015994) with: {'C': 0.05951591786684235, 'solver': 'liblinear'}\n",
      "0.976726 (0.011638) with: {'C': 0.08366683562632657, 'solver': 'liblinear'}\n",
      "0.991304 (0.011594) with: {'C': 7.3861966649189155, 'solver': 'lbfgs'}\n",
      "0.982523 (0.010937) with: {'C': 1.2256530726441102, 'solver': 'liblinear'}\n",
      "0.988406 (0.010845) with: {'C': 7.966931296129519, 'solver': 'lbfgs'}\n",
      "0.979625 (0.011659) with: {'C': 0.09235026088877112, 'solver': 'lbfgs'}\n",
      "0.988406 (0.010845) with: {'C': 46.75415925901142, 'solver': 'liblinear'}\n",
      "0.982523 (0.010937) with: {'C': 0.21572913360326187, 'solver': 'liblinear'}\n",
      "0.982523 (0.010937) with: {'C': 0.5157811253129977, 'solver': 'liblinear'}\n",
      "0.988406 (0.010845) with: {'C': 13.200100513562086, 'solver': 'liblinear'}\n",
      "0.988406 (0.010845) with: {'C': 30.722065371423096, 'solver': 'liblinear'}\n",
      "0.921483 (0.019778) with: {'C': 0.010085349748139275, 'solver': 'lbfgs'}\n",
      "0.979625 (0.011659) with: {'C': 0.13405742799488174, 'solver': 'liblinear'}\n",
      "0.991304 (0.011594) with: {'C': 1.0276692230672921, 'solver': 'lbfgs'}\n",
      "0.991304 (0.007100) with: {'C': 7.982540841501987, 'solver': 'liblinear'}\n",
      "0.970887 (0.015994) with: {'C': 0.04647096231618762, 'solver': 'liblinear'}\n",
      "0.988406 (0.010845) with: {'C': 10.748455770489466, 'solver': 'lbfgs'}\n",
      "0.970887 (0.015994) with: {'C': 0.0449591498628345, 'solver': 'liblinear'}\n",
      "0.991304 (0.011594) with: {'C': 4.931371769618931, 'solver': 'lbfgs'}\n",
      "0.988406 (0.010845) with: {'C': 54.27120580801151, 'solver': 'liblinear'}\n",
      "0.988406 (0.010845) with: {'C': 94.02502716361752, 'solver': 'liblinear'}\n",
      "0.988406 (0.010845) with: {'C': 59.191925687015136, 'solver': 'liblinear'}\n",
      "0.988363 (0.005819) with: {'C': 1.8280947173103521, 'solver': 'liblinear'}\n",
      "0.988406 (0.010845) with: {'C': 15.709584291179661, 'solver': 'liblinear'}\n",
      "0.982523 (0.010937) with: {'C': 1.141237602598635, 'solver': 'liblinear'}\n",
      "0.991304 (0.007100) with: {'C': 3.4599381408698906, 'solver': 'liblinear'}\n",
      "0.985422 (0.009301) with: {'C': 1.4304249149017298, 'solver': 'liblinear'}\n",
      "0.976726 (0.011638) with: {'C': 0.06679411827218366, 'solver': 'lbfgs'}\n",
      "0.988406 (0.010845) with: {'C': 41.31509940762245, 'solver': 'lbfgs'}\n",
      "0.976726 (0.011638) with: {'C': 0.052675301934992536, 'solver': 'lbfgs'}\n",
      "0.970887 (0.015994) with: {'C': 0.028790919356434925, 'solver': 'lbfgs'}\n",
      "0.991304 (0.011594) with: {'C': 4.934548478226332, 'solver': 'lbfgs'}\n",
      "0.985507 (0.012963) with: {'C': 34.689089872647834, 'solver': 'lbfgs'}\n",
      "0.982523 (0.016961) with: {'C': 0.43378984373063234, 'solver': 'lbfgs'}\n",
      "0.982523 (0.016961) with: {'C': 0.223548877828603, 'solver': 'lbfgs'}\n",
      "0.988406 (0.010845) with: {'C': 60.52437540519186, 'solver': 'liblinear'}\n",
      "0.988406 (0.010845) with: {'C': 20.450854811662726, 'solver': 'lbfgs'}\n",
      "0.988406 (0.010845) with: {'C': 20.200188587807155, 'solver': 'liblinear'}\n",
      "0.991304 (0.011594) with: {'C': 6.819853268680262, 'solver': 'lbfgs'}\n",
      "0.991304 (0.007100) with: {'C': 4.235067626756563, 'solver': 'liblinear'}\n",
      "0.988363 (0.005819) with: {'C': 2.081313017901242, 'solver': 'liblinear'}\n",
      "0.988406 (0.010845) with: {'C': 36.45755441048003, 'solver': 'lbfgs'}\n",
      "0.982523 (0.016961) with: {'C': 0.17582226947903642, 'solver': 'lbfgs'}\n",
      "0.982523 (0.016961) with: {'C': 0.368887304962278, 'solver': 'lbfgs'}\n",
      "0.991304 (0.011594) with: {'C': 4.535329399285249, 'solver': 'lbfgs'}\n",
      "0.988406 (0.010845) with: {'C': 31.32938359320449, 'solver': 'liblinear'}\n",
      "0.965090 (0.014857) with: {'C': 0.027553304522124147, 'solver': 'lbfgs'}\n",
      "0.970887 (0.015994) with: {'C': 0.029749496504549673, 'solver': 'lbfgs'}\n",
      "0.982523 (0.016961) with: {'C': 0.2912314258306114, 'solver': 'lbfgs'}\n",
      "0.976726 (0.011638) with: {'C': 0.05498807135226214, 'solver': 'lbfgs'}\n",
      "0.976726 (0.011638) with: {'C': 0.09396592973714475, 'solver': 'liblinear'}\n",
      "0.991304 (0.011594) with: {'C': 1.296162635643478, 'solver': 'lbfgs'}\n",
      "0.976726 (0.011638) with: {'C': 0.07759273531972241, 'solver': 'liblinear'}\n",
      "0.970887 (0.015994) with: {'C': 0.040830369294477385, 'solver': 'liblinear'}\n",
      "0.982523 (0.010937) with: {'C': 0.32267723378230884, 'solver': 'liblinear'}\n",
      "0.991304 (0.007100) with: {'C': 3.783508965039408, 'solver': 'liblinear'}\n",
      "0.988406 (0.010845) with: {'C': 10.233085733790695, 'solver': 'liblinear'}\n",
      "0.988406 (0.010845) with: {'C': 50.955960480688866, 'solver': 'liblinear'}\n",
      "0.970887 (0.015994) with: {'C': 0.057135851655716295, 'solver': 'liblinear'}\n",
      "0.988406 (0.010845) with: {'C': 16.31181132396876, 'solver': 'lbfgs'}\n",
      "0.979625 (0.011659) with: {'C': 0.09587628744270067, 'solver': 'lbfgs'}\n",
      "0.970887 (0.015994) with: {'C': 0.0375251435629368, 'solver': 'liblinear'}\n",
      "0.979625 (0.011659) with: {'C': 0.14731292062512336, 'solver': 'liblinear'}\n",
      "0.988406 (0.010845) with: {'C': 8.830038408668466, 'solver': 'lbfgs'}\n",
      "0.985507 (0.012963) with: {'C': 35.71534880085641, 'solver': 'lbfgs'}\n",
      "0.991304 (0.007100) with: {'C': 3.6843951650908555, 'solver': 'liblinear'}\n",
      "0.991304 (0.007100) with: {'C': 4.034646873924082, 'solver': 'liblinear'}\n",
      "0.988406 (0.010845) with: {'C': 11.84840893999441, 'solver': 'lbfgs'}\n",
      "0.988363 (0.010857) with: {'C': 76.5047703628528, 'solver': 'lbfgs'}\n",
      "0.991304 (0.011594) with: {'C': 1.3528784058856878, 'solver': 'lbfgs'}\n",
      "0.979625 (0.014831) with: {'C': 0.13375803464293426, 'solver': 'lbfgs'}\n",
      "0.988406 (0.010845) with: {'C': 16.870744507478825, 'solver': 'lbfgs'}\n",
      "0.976726 (0.011638) with: {'C': 0.08607612500321592, 'solver': 'liblinear'}\n",
      "0.985422 (0.009301) with: {'C': 1.6000752917984553, 'solver': 'liblinear'}\n",
      "0.982523 (0.016961) with: {'C': 0.21907877163318226, 'solver': 'lbfgs'}\n",
      "0.982523 (0.016961) with: {'C': 0.3844079429659222, 'solver': 'lbfgs'}\n",
      "0.991304 (0.011594) with: {'C': 5.344587401987674, 'solver': 'lbfgs'}\n",
      "0.988406 (0.010845) with: {'C': 29.883998097618694, 'solver': 'liblinear'}\n",
      "0.982523 (0.010937) with: {'C': 0.3013816991284678, 'solver': 'liblinear'}\n",
      "0.988406 (0.010845) with: {'C': 40.90970112981393, 'solver': 'lbfgs'}\n",
      "0.991304 (0.011594) with: {'C': 2.263463562798469, 'solver': 'lbfgs'}\n",
      "0.970887 (0.015994) with: {'C': 0.03672587616978596, 'solver': 'lbfgs'}\n",
      "0.991304 (0.007100) with: {'C': 2.708139439062327, 'solver': 'liblinear'}\n",
      "0.950512 (0.015116) with: {'C': 0.02450972553772976, 'solver': 'lbfgs'}\n",
      "0.982523 (0.010937) with: {'C': 0.5492451533097953, 'solver': 'liblinear'}\n",
      "0.979625 (0.011659) with: {'C': 0.11794218394363254, 'solver': 'liblinear'}\n",
      "0.988406 (0.010845) with: {'C': 12.541511511562039, 'solver': 'liblinear'}\n",
      "0.976726 (0.011638) with: {'C': 0.10342826107131499, 'solver': 'liblinear'}\n",
      "0.936019 (0.021780) with: {'C': 0.013630048431335043, 'solver': 'liblinear'}\n",
      "0.988363 (0.005819) with: {'C': 2.02972273530644, 'solver': 'liblinear'}\n",
      "0.988406 (0.010845) with: {'C': 18.107728052964006, 'solver': 'liblinear'}\n",
      "0.941816 (0.013206) with: {'C': 0.015621089938582262, 'solver': 'liblinear'}\n",
      "0.976726 (0.011638) with: {'C': 0.08311136251837628, 'solver': 'liblinear'}\n",
      "0.979625 (0.011659) with: {'C': 0.15348481756393967, 'solver': 'liblinear'}\n",
      "0.988406 (0.010845) with: {'C': 21.9538609846772, 'solver': 'lbfgs'}\n"
     ]
    }
   ],
   "source": [
    "from sklearn.model_selection import RepeatedStratifiedKFold, GridSearchCV\n",
    "\n",
    "lr = LogisticRegression()\n",
    "dist = {'C': loguniform(1e-2, 1e2), 'solver': ['lbfgs', 'liblinear']}\n",
    "rand_search = RandomizedSearchCV(lr, param_distributions=dist, cv=5, scoring='accuracy',n_iter=100)\n",
    "rand_result = rand_search.fit(X_train, y_train)\n",
    "\n",
    "print(\"Best: %f using %s\" % (rand_search.best_score_, rand_search.best_params_))\n",
    "means = rand_result.cv_results_['mean_test_score']\n",
    "stds = rand_result.cv_results_['std_test_score']\n",
    "params = rand_result.cv_results_['params']\n",
    "for mean, stdev, param in zip(means, stds, params):\n",
    "    print(\"%f (%f) with: %r\" % (mean, stdev, param))"
   ]
  },
  {
   "cell_type": "code",
   "execution_count": 10,
   "metadata": {},
   "outputs": [
    {
     "name": "stdout",
     "output_type": "stream",
     "text": [
      "CV score of Logistic Regression is 0.988988\n"
     ]
    }
   ],
   "source": [
    "lr = LogisticRegression(solver='liblinear', C=5.167308608272073)\n",
    "lr.fit(X_train, y_train)\n",
    "cv_scores_lr = cross_val_score(lr, X_train, y_train, cv=5, scoring='f1_macro')\n",
    "LogisticRegression_CV_score = np.mean(cv_scores_lr)\n",
    "print(\"CV score of Logistic Regression is %f\" % LogisticRegression_CV_score)"
   ]
  },
  {
   "cell_type": "markdown",
   "metadata": {},
   "source": [
    "### Part 2:  Tuning Decision Tree with pruning\n",
    "- ccp_alphas, hint: how to get the candidate set of ccp_alphas?"
   ]
  },
  {
   "cell_type": "code",
   "execution_count": 11,
   "metadata": {},
   "outputs": [
    {
     "name": "stdout",
     "output_type": "stream",
     "text": [
      "Best: 0.960336 using {'ccp_alpha': 0.0023255813953488367}\n",
      "0.959300 (0.030651) with: {'ccp_alpha': 0.0}\n",
      "0.960336 (0.032177) with: {'ccp_alpha': 0.0023255813953488367}\n",
      "0.960196 (0.032332) with: {'ccp_alpha': 0.002886212624584718}\n",
      "0.954454 (0.029667) with: {'ccp_alpha': 0.004069767441860466}\n",
      "0.954454 (0.034970) with: {'ccp_alpha': 0.008305647840531562}\n",
      "0.956443 (0.037266) with: {'ccp_alpha': 0.009205426356589146}\n",
      "0.950532 (0.036917) with: {'ccp_alpha': 0.011167383555917353}\n",
      "0.939076 (0.040454) with: {'ccp_alpha': 0.030647840531561457}\n",
      "0.848880 (0.064703) with: {'ccp_alpha': 0.20728547589951898}\n",
      "0.622157 (0.171706) with: {'ccp_alpha': 0.3342711139641028}\n"
     ]
    }
   ],
   "source": [
    "dt = DecisionTreeClassifier()\n",
    "path = dt.cost_complexity_pruning_path(X_train, y_train)\n",
    "grid = dict(ccp_alpha = path.ccp_alphas)\n",
    "cv = RepeatedStratifiedKFold(n_splits=10, n_repeats=3)\n",
    "grid_search = GridSearchCV(dt, param_grid=grid, cv=cv, scoring='accuracy')\n",
    "grid_result = grid_search.fit(X_train, y_train)\n",
    "\n",
    "print(\"Best: %f using %s\" % (grid_result.best_score_, grid_result.best_params_))\n",
    "means = grid_result.cv_results_['mean_test_score']\n",
    "stds = grid_result.cv_results_['std_test_score']\n",
    "params = grid_result.cv_results_['params']\n",
    "for mean, stdev, param in zip(means, stds, params):\n",
    "    print(\"%f (%f) with: %r\" % (mean, stdev, param))"
   ]
  },
  {
   "cell_type": "code",
   "execution_count": 12,
   "metadata": {},
   "outputs": [
    {
     "name": "stdout",
     "output_type": "stream",
     "text": [
      "CV score of Decision Tree is 0.947906\n"
     ]
    }
   ],
   "source": [
    "dt = DecisionTreeClassifier(ccp_alpha = 0.0023255813953488367) \n",
    "dt.fit(X_train, y_train)\n",
    "cv_scores_dt = cross_val_score(dt, X_train, y_train, cv=5, scoring='f1_macro')\n",
    "DecisionTree_CV_score = np.mean(cv_scores_dt)\n",
    "print(\"CV score of Decision Tree is %f\" % DecisionTree_CV_score)"
   ]
  },
  {
   "cell_type": "markdown",
   "metadata": {},
   "source": [
    "### Part 3: Tuning Gradient Boosting \n",
    "- n_estimators: from range 1 to 100, hint: using 'n_estimators': range(1, 100)\n",
    "- max_depth': from range 1 to 5 "
   ]
  },
  {
   "cell_type": "code",
   "execution_count": 13,
   "metadata": {},
   "outputs": [
    {
     "name": "stdout",
     "output_type": "stream",
     "text": [
      "Best: 0.988363 using {'n_estimators': 81, 'max_depth': 4}\n",
      "0.979710 (0.014780) with: {'n_estimators': 85, 'max_depth': 1}\n",
      "0.979625 (0.017435) with: {'n_estimators': 80, 'max_depth': 3}\n",
      "0.982566 (0.016894) with: {'n_estimators': 82, 'max_depth': 3}\n",
      "0.979710 (0.014780) with: {'n_estimators': 69, 'max_depth': 1}\n",
      "0.973870 (0.019201) with: {'n_estimators': 36, 'max_depth': 2}\n",
      "0.976769 (0.017370) with: {'n_estimators': 67, 'max_depth': 2}\n",
      "0.970929 (0.009168) with: {'n_estimators': 31, 'max_depth': 4}\n",
      "0.979668 (0.014763) with: {'n_estimators': 42, 'max_depth': 2}\n",
      "0.950597 (0.026854) with: {'n_estimators': 13, 'max_depth': 2}\n",
      "0.979668 (0.014763) with: {'n_estimators': 98, 'max_depth': 3}\n",
      "0.956394 (0.012965) with: {'n_estimators': 25, 'max_depth': 1}\n",
      "0.976726 (0.014814) with: {'n_estimators': 59, 'max_depth': 3}\n",
      "0.985465 (0.012963) with: {'n_estimators': 66, 'max_depth': 4}\n",
      "0.973870 (0.014165) with: {'n_estimators': 59, 'max_depth': 2}\n",
      "0.970972 (0.018299) with: {'n_estimators': 85, 'max_depth': 2}\n",
      "0.968073 (0.016858) with: {'n_estimators': 52, 'max_depth': 1}\n",
      "0.979668 (0.007066) with: {'n_estimators': 53, 'max_depth': 4}\n",
      "0.930136 (0.028445) with: {'n_estimators': 5, 'max_depth': 2}\n",
      "0.973828 (0.005842) with: {'n_estimators': 45, 'max_depth': 4}\n",
      "0.976769 (0.017370) with: {'n_estimators': 62, 'max_depth': 2}\n",
      "0.968073 (0.016858) with: {'n_estimators': 6, 'max_depth': 3}\n",
      "0.988363 (0.010857) with: {'n_estimators': 81, 'max_depth': 4}\n",
      "0.979668 (0.007066) with: {'n_estimators': 51, 'max_depth': 4}\n",
      "0.973870 (0.010800) with: {'n_estimators': 61, 'max_depth': 1}\n",
      "0.973870 (0.010800) with: {'n_estimators': 31, 'max_depth': 3}\n",
      "0.956394 (0.012965) with: {'n_estimators': 24, 'max_depth': 1}\n",
      "0.979668 (0.014763) with: {'n_estimators': 34, 'max_depth': 3}\n",
      "0.982566 (0.010834) with: {'n_estimators': 54, 'max_depth': 4}\n",
      "0.985465 (0.012963) with: {'n_estimators': 71, 'max_depth': 4}\n",
      "0.970972 (0.024226) with: {'n_estimators': 32, 'max_depth': 2}\n",
      "0.973828 (0.005842) with: {'n_estimators': 38, 'max_depth': 4}\n",
      "0.953495 (0.028090) with: {'n_estimators': 11, 'max_depth': 2}\n",
      "0.979625 (0.017435) with: {'n_estimators': 84, 'max_depth': 3}\n",
      "0.985465 (0.012963) with: {'n_estimators': 79, 'max_depth': 4}\n",
      "0.970972 (0.018299) with: {'n_estimators': 90, 'max_depth': 2}\n",
      "0.988363 (0.010857) with: {'n_estimators': 88, 'max_depth': 4}\n",
      "0.970972 (0.018299) with: {'n_estimators': 86, 'max_depth': 2}\n",
      "0.973828 (0.005842) with: {'n_estimators': 18, 'max_depth': 4}\n",
      "0.970972 (0.024226) with: {'n_estimators': 30, 'max_depth': 2}\n",
      "0.973870 (0.014165) with: {'n_estimators': 75, 'max_depth': 2}\n",
      "0.970972 (0.012915) with: {'n_estimators': 54, 'max_depth': 1}\n",
      "0.979625 (0.017435) with: {'n_estimators': 74, 'max_depth': 3}\n",
      "0.973870 (0.016872) with: {'n_estimators': 9, 'max_depth': 4}\n",
      "0.973870 (0.014165) with: {'n_estimators': 74, 'max_depth': 2}\n",
      "0.973828 (0.005842) with: {'n_estimators': 30, 'max_depth': 4}\n",
      "0.979625 (0.017435) with: {'n_estimators': 64, 'max_depth': 3}\n",
      "0.979668 (0.014763) with: {'n_estimators': 48, 'max_depth': 3}\n",
      "0.973870 (0.014165) with: {'n_estimators': 65, 'max_depth': 2}\n",
      "0.976812 (0.014780) with: {'n_estimators': 62, 'max_depth': 1}\n",
      "0.979668 (0.014763) with: {'n_estimators': 42, 'max_depth': 3}\n",
      "0.979625 (0.017435) with: {'n_estimators': 69, 'max_depth': 3}\n",
      "0.956394 (0.012965) with: {'n_estimators': 28, 'max_depth': 1}\n",
      "0.982566 (0.016894) with: {'n_estimators': 57, 'max_depth': 3}\n",
      "0.973870 (0.019201) with: {'n_estimators': 35, 'max_depth': 2}\n",
      "0.979625 (0.017435) with: {'n_estimators': 75, 'max_depth': 3}\n",
      "0.985465 (0.012963) with: {'n_estimators': 98, 'max_depth': 4}\n",
      "0.973870 (0.010800) with: {'n_estimators': 26, 'max_depth': 3}\n",
      "0.976769 (0.014755) with: {'n_estimators': 33, 'max_depth': 3}\n",
      "0.979625 (0.017435) with: {'n_estimators': 79, 'max_depth': 3}\n",
      "0.930094 (0.034028) with: {'n_estimators': 4, 'max_depth': 2}\n",
      "0.968073 (0.016858) with: {'n_estimators': 11, 'max_depth': 4}\n",
      "0.973828 (0.005842) with: {'n_estimators': 27, 'max_depth': 4}\n",
      "0.979625 (0.017435) with: {'n_estimators': 77, 'max_depth': 3}\n",
      "0.979710 (0.014780) with: {'n_estimators': 88, 'max_depth': 1}\n",
      "0.973870 (0.014165) with: {'n_estimators': 72, 'max_depth': 2}\n",
      "0.976726 (0.007171) with: {'n_estimators': 48, 'max_depth': 4}\n",
      "0.979668 (0.014763) with: {'n_estimators': 43, 'max_depth': 3}\n",
      "0.965132 (0.014747) with: {'n_estimators': 39, 'max_depth': 1}\n",
      "0.985465 (0.012963) with: {'n_estimators': 70, 'max_depth': 4}\n",
      "0.965132 (0.019635) with: {'n_estimators': 25, 'max_depth': 2}\n",
      "0.979625 (0.017435) with: {'n_estimators': 73, 'max_depth': 3}\n",
      "0.973870 (0.010800) with: {'n_estimators': 28, 'max_depth': 3}\n",
      "0.959335 (0.016844) with: {'n_estimators': 20, 'max_depth': 2}\n",
      "0.982566 (0.021294) with: {'n_estimators': 86, 'max_depth': 4}\n",
      "0.973828 (0.010869) with: {'n_estimators': 39, 'max_depth': 4}\n",
      "0.985465 (0.012963) with: {'n_estimators': 99, 'max_depth': 4}\n",
      "0.985465 (0.012963) with: {'n_estimators': 63, 'max_depth': 4}\n",
      "0.979625 (0.011659) with: {'n_estimators': 57, 'max_depth': 4}\n",
      "0.982566 (0.016894) with: {'n_estimators': 86, 'max_depth': 3}\n",
      "0.956394 (0.012965) with: {'n_estimators': 27, 'max_depth': 1}\n",
      "0.979710 (0.014780) with: {'n_estimators': 73, 'max_depth': 1}\n",
      "0.979625 (0.017435) with: {'n_estimators': 78, 'max_depth': 3}\n",
      "0.979625 (0.011659) with: {'n_estimators': 60, 'max_depth': 4}\n",
      "0.979668 (0.014763) with: {'n_estimators': 47, 'max_depth': 3}\n",
      "0.979625 (0.017435) with: {'n_estimators': 72, 'max_depth': 3}\n",
      "0.973870 (0.014165) with: {'n_estimators': 79, 'max_depth': 2}\n",
      "0.976812 (0.014780) with: {'n_estimators': 66, 'max_depth': 1}\n",
      "0.973828 (0.005842) with: {'n_estimators': 20, 'max_depth': 4}\n",
      "0.979710 (0.014780) with: {'n_estimators': 68, 'max_depth': 1}\n",
      "0.776130 (0.015237) with: {'n_estimators': 1, 'max_depth': 1}\n",
      "0.982609 (0.014200) with: {'n_estimators': 90, 'max_depth': 1}\n",
      "0.979710 (0.014780) with: {'n_estimators': 78, 'max_depth': 1}\n",
      "0.976726 (0.014814) with: {'n_estimators': 54, 'max_depth': 3}\n",
      "0.970972 (0.018299) with: {'n_estimators': 97, 'max_depth': 2}\n",
      "0.976769 (0.017370) with: {'n_estimators': 57, 'max_depth': 2}\n",
      "0.976769 (0.017370) with: {'n_estimators': 66, 'max_depth': 2}\n",
      "0.965132 (0.014747) with: {'n_estimators': 41, 'max_depth': 1}\n",
      "0.970929 (0.009168) with: {'n_estimators': 34, 'max_depth': 4}\n",
      "0.982609 (0.014200) with: {'n_estimators': 95, 'max_depth': 1}\n",
      "0.970972 (0.015837) with: {'n_estimators': 5, 'max_depth': 4}\n"
     ]
    }
   ],
   "source": [
    "gb = GradientBoostingClassifier()\n",
    "\n",
    "dist = {'n_estimators': range(1, 100), 'max_depth': range(1, 5)}\n",
    "rand_search = RandomizedSearchCV(gb, param_distributions=dist, cv=5, scoring='accuracy',n_iter=100)\n",
    "rand_result = rand_search.fit(X_train, y_train)\n",
    "\n",
    "print(\"Best: %f using %s\" % (rand_search.best_score_, rand_search.best_params_))\n",
    "means = rand_result.cv_results_['mean_test_score']\n",
    "stds = rand_result.cv_results_['std_test_score']\n",
    "params = rand_result.cv_results_['params']\n",
    "for mean, stdev, param in zip(means, stds, params):\n",
    "    print(\"%f (%f) with: %r\" % (mean, stdev, param))"
   ]
  },
  {
   "cell_type": "code",
   "execution_count": 14,
   "metadata": {},
   "outputs": [
    {
     "name": "stdout",
     "output_type": "stream",
     "text": [
      "CV score of Gradient Boosting is 0.983333\n"
     ]
    }
   ],
   "source": [
    "gb = GradientBoostingClassifier(n_estimators=81, max_depth=4)\n",
    "gb.fit(X_train, y_train)\n",
    "cv_scores_gb = cross_val_score(gb, X_train, y_train, cv=5, scoring='f1_macro')\n",
    "GradientBoosting_CV_score = np.mean(cv_scores_gb)\n",
    "print(\"CV score of Gradient Boosting is %f\" % GradientBoosting_CV_score)"
   ]
  },
  {
   "cell_type": "markdown",
   "metadata": {},
   "source": [
    "### Part 4: Tuning Random Forest (hint: if too slow, use parallel computation, n_jobs=-1)\n",
    "- n_estimators: from range 1 to 100\n",
    "- max_depth': from range 1 to 5 \n",
    "\n"
   ]
  },
  {
   "cell_type": "code",
   "execution_count": 15,
   "metadata": {},
   "outputs": [
    {
     "name": "stdout",
     "output_type": "stream",
     "text": [
      "Best: 0.979668 using {'n_estimators': 19, 'max_depth': 4}\n",
      "0.962234 (0.014731) with: {'n_estimators': 85, 'max_depth': 3}\n",
      "0.962234 (0.014731) with: {'n_estimators': 71, 'max_depth': 3}\n",
      "0.799361 (0.011895) with: {'n_estimators': 87, 'max_depth': 1}\n",
      "0.796462 (0.013719) with: {'n_estimators': 19, 'max_depth': 1}\n",
      "0.799361 (0.011895) with: {'n_estimators': 79, 'max_depth': 1}\n",
      "0.970887 (0.013107) with: {'n_estimators': 66, 'max_depth': 4}\n",
      "0.959292 (0.014228) with: {'n_estimators': 56, 'max_depth': 3}\n",
      "0.970929 (0.009168) with: {'n_estimators': 5, 'max_depth': 4}\n",
      "0.953538 (0.021231) with: {'n_estimators': 41, 'max_depth': 2}\n",
      "0.965132 (0.011553) with: {'n_estimators': 75, 'max_depth': 3}\n",
      "0.962234 (0.014731) with: {'n_estimators': 72, 'max_depth': 2}\n",
      "0.956394 (0.015878) with: {'n_estimators': 80, 'max_depth': 2}\n",
      "0.967988 (0.014306) with: {'n_estimators': 90, 'max_depth': 4}\n",
      "0.947698 (0.028362) with: {'n_estimators': 13, 'max_depth': 2}\n",
      "0.973785 (0.011052) with: {'n_estimators': 84, 'max_depth': 4}\n",
      "0.967988 (0.014306) with: {'n_estimators': 17, 'max_depth': 2}\n",
      "0.799361 (0.011895) with: {'n_estimators': 50, 'max_depth': 1}\n",
      "0.962234 (0.014731) with: {'n_estimators': 17, 'max_depth': 3}\n",
      "0.970887 (0.013107) with: {'n_estimators': 94, 'max_depth': 4}\n",
      "0.796462 (0.013719) with: {'n_estimators': 41, 'max_depth': 1}\n",
      "0.796462 (0.013719) with: {'n_estimators': 34, 'max_depth': 1}\n",
      "0.953495 (0.019209) with: {'n_estimators': 92, 'max_depth': 2}\n",
      "0.959292 (0.016925) with: {'n_estimators': 71, 'max_depth': 2}\n",
      "0.941816 (0.029095) with: {'n_estimators': 8, 'max_depth': 2}\n",
      "0.950597 (0.023518) with: {'n_estimators': 53, 'max_depth': 2}\n",
      "0.973785 (0.011052) with: {'n_estimators': 24, 'max_depth': 4}\n",
      "0.973785 (0.011052) with: {'n_estimators': 64, 'max_depth': 4}\n",
      "0.970887 (0.013107) with: {'n_estimators': 40, 'max_depth': 4}\n",
      "0.950639 (0.029785) with: {'n_estimators': 40, 'max_depth': 2}\n",
      "0.967988 (0.010984) with: {'n_estimators': 41, 'max_depth': 4}\n",
      "0.790665 (0.015205) with: {'n_estimators': 16, 'max_depth': 1}\n",
      "0.959292 (0.014228) with: {'n_estimators': 21, 'max_depth': 2}\n",
      "0.970929 (0.015877) with: {'n_estimators': 49, 'max_depth': 4}\n",
      "0.973828 (0.005842) with: {'n_estimators': 60, 'max_depth': 4}\n",
      "0.959292 (0.016925) with: {'n_estimators': 47, 'max_depth': 2}\n",
      "0.793564 (0.017381) with: {'n_estimators': 38, 'max_depth': 1}\n",
      "0.953495 (0.023174) with: {'n_estimators': 30, 'max_depth': 3}\n",
      "0.956436 (0.020436) with: {'n_estimators': 52, 'max_depth': 2}\n",
      "0.973828 (0.010869) with: {'n_estimators': 13, 'max_depth': 4}\n",
      "0.965090 (0.011693) with: {'n_estimators': 34, 'max_depth': 3}\n",
      "0.799361 (0.011895) with: {'n_estimators': 57, 'max_depth': 1}\n",
      "0.950597 (0.023518) with: {'n_estimators': 31, 'max_depth': 3}\n",
      "0.962234 (0.014731) with: {'n_estimators': 6, 'max_depth': 3}\n",
      "0.799361 (0.011895) with: {'n_estimators': 21, 'max_depth': 1}\n",
      "0.799361 (0.011895) with: {'n_estimators': 76, 'max_depth': 1}\n",
      "0.799361 (0.011895) with: {'n_estimators': 12, 'max_depth': 1}\n",
      "0.959335 (0.021254) with: {'n_estimators': 23, 'max_depth': 2}\n",
      "0.959292 (0.014228) with: {'n_estimators': 45, 'max_depth': 2}\n",
      "0.973828 (0.010869) with: {'n_estimators': 7, 'max_depth': 4}\n",
      "0.953538 (0.024875) with: {'n_estimators': 37, 'max_depth': 2}\n",
      "0.965090 (0.011693) with: {'n_estimators': 58, 'max_depth': 3}\n",
      "0.793564 (0.011579) with: {'n_estimators': 28, 'max_depth': 1}\n",
      "0.799361 (0.011895) with: {'n_estimators': 71, 'max_depth': 1}\n",
      "0.973785 (0.011052) with: {'n_estimators': 82, 'max_depth': 4}\n",
      "0.950597 (0.023518) with: {'n_estimators': 65, 'max_depth': 2}\n",
      "0.962234 (0.014731) with: {'n_estimators': 35, 'max_depth': 3}\n",
      "0.953538 (0.024875) with: {'n_estimators': 58, 'max_depth': 2}\n",
      "0.950554 (0.019737) with: {'n_estimators': 90, 'max_depth': 2}\n",
      "0.973828 (0.010869) with: {'n_estimators': 37, 'max_depth': 4}\n",
      "0.962191 (0.011661) with: {'n_estimators': 97, 'max_depth': 3}\n",
      "0.962234 (0.014731) with: {'n_estimators': 51, 'max_depth': 2}\n",
      "0.799361 (0.011895) with: {'n_estimators': 23, 'max_depth': 1}\n",
      "0.796462 (0.013719) with: {'n_estimators': 64, 'max_depth': 1}\n",
      "0.965132 (0.011553) with: {'n_estimators': 80, 'max_depth': 3}\n",
      "0.962234 (0.014731) with: {'n_estimators': 16, 'max_depth': 3}\n",
      "0.959335 (0.016844) with: {'n_estimators': 84, 'max_depth': 2}\n",
      "0.901236 (0.053658) with: {'n_estimators': 1, 'max_depth': 3}\n",
      "0.956394 (0.018334) with: {'n_estimators': 18, 'max_depth': 2}\n",
      "0.793564 (0.017381) with: {'n_estimators': 9, 'max_depth': 1}\n",
      "0.970887 (0.013107) with: {'n_estimators': 76, 'max_depth': 4}\n",
      "0.965090 (0.017457) with: {'n_estimators': 16, 'max_depth': 4}\n",
      "0.970887 (0.009370) with: {'n_estimators': 85, 'max_depth': 4}\n",
      "0.796462 (0.013719) with: {'n_estimators': 35, 'max_depth': 1}\n",
      "0.967988 (0.014306) with: {'n_estimators': 51, 'max_depth': 4}\n",
      "0.962191 (0.011661) with: {'n_estimators': 32, 'max_depth': 3}\n",
      "0.968031 (0.016888) with: {'n_estimators': 6, 'max_depth': 2}\n",
      "0.956394 (0.015878) with: {'n_estimators': 46, 'max_depth': 2}\n",
      "0.953538 (0.024875) with: {'n_estimators': 76, 'max_depth': 2}\n",
      "0.950554 (0.019737) with: {'n_estimators': 79, 'max_depth': 2}\n",
      "0.965090 (0.011693) with: {'n_estimators': 60, 'max_depth': 3}\n",
      "0.956436 (0.020436) with: {'n_estimators': 93, 'max_depth': 2}\n",
      "0.973828 (0.010869) with: {'n_estimators': 6, 'max_depth': 4}\n",
      "0.793564 (0.017381) with: {'n_estimators': 59, 'max_depth': 1}\n",
      "0.796462 (0.010207) with: {'n_estimators': 80, 'max_depth': 1}\n",
      "0.976726 (0.007171) with: {'n_estimators': 80, 'max_depth': 4}\n",
      "0.796462 (0.013719) with: {'n_estimators': 44, 'max_depth': 1}\n",
      "0.979668 (0.011573) with: {'n_estimators': 19, 'max_depth': 4}\n",
      "0.979625 (0.007206) with: {'n_estimators': 42, 'max_depth': 4}\n",
      "0.953495 (0.019209) with: {'n_estimators': 64, 'max_depth': 2}\n",
      "0.965132 (0.019635) with: {'n_estimators': 20, 'max_depth': 4}\n",
      "0.956436 (0.024201) with: {'n_estimators': 28, 'max_depth': 2}\n",
      "0.959335 (0.016844) with: {'n_estimators': 96, 'max_depth': 2}\n",
      "0.965132 (0.011553) with: {'n_estimators': 43, 'max_depth': 3}\n",
      "0.959335 (0.016844) with: {'n_estimators': 62, 'max_depth': 2}\n",
      "0.962191 (0.011661) with: {'n_estimators': 64, 'max_depth': 3}\n",
      "0.970887 (0.013107) with: {'n_estimators': 67, 'max_depth': 4}\n",
      "0.956394 (0.018334) with: {'n_estimators': 14, 'max_depth': 3}\n",
      "0.956436 (0.020436) with: {'n_estimators': 91, 'max_depth': 2}\n",
      "0.793564 (0.011579) with: {'n_estimators': 55, 'max_depth': 1}\n",
      "0.793564 (0.017381) with: {'n_estimators': 39, 'max_depth': 1}\n"
     ]
    }
   ],
   "source": [
    "rf = RandomForestClassifier(n_jobs=-1)\n",
    "\n",
    "dist = {'n_estimators': range(1, 100), 'max_depth': range(1, 5)}\n",
    "rand_search = RandomizedSearchCV(rf, param_distributions=dist, cv=5, scoring='accuracy',n_iter=100)\n",
    "rand_result = rand_search.fit(X_train, y_train)\n",
    "\n",
    "print(\"Best: %f using %s\" % (rand_search.best_score_, rand_search.best_params_))\n",
    "means = rand_result.cv_results_['mean_test_score']\n",
    "stds = rand_result.cv_results_['std_test_score']\n",
    "params = rand_result.cv_results_['params']\n",
    "for mean, stdev, param in zip(means, stds, params):\n",
    "    print(\"%f (%f) with: %r\" % (mean, stdev, param))"
   ]
  },
  {
   "cell_type": "code",
   "execution_count": 16,
   "metadata": {},
   "outputs": [
    {
     "name": "stdout",
     "output_type": "stream",
     "text": [
      "CV score of Random Forest is 0.961771\n"
     ]
    }
   ],
   "source": [
    "rf = RandomForestClassifier(n_estimators=19, max_depth=4)\n",
    "rf.fit(X_train, y_train)\n",
    "cv_scores_rf = cross_val_score(rf, X_train, y_train, cv=5, scoring='f1_macro')\n",
    "RandomForest_CV_score = np.mean(cv_scores_rf)\n",
    "print(\"CV score of Random Forest is %f\" % RandomForest_CV_score)"
   ]
  },
  {
   "cell_type": "markdown",
   "metadata": {},
   "source": [
    "### Part 5: Nothing to tune for Naive Bayes\n",
    "- Just compute cross validate score "
   ]
  },
  {
   "cell_type": "code",
   "execution_count": 17,
   "metadata": {},
   "outputs": [
    {
     "name": "stdout",
     "output_type": "stream",
     "text": [
      "CV score of Naive Bayes is 0.964164\n"
     ]
    }
   ],
   "source": [
    "nb = GaussianNB()\n",
    "nb.fit(X_train, y_train)\n",
    "cv_scores_nb = cross_val_score(nb, X_train, y_train, cv=5, scoring='f1_macro')\n",
    "NaiveBayes_CV_score = np.mean(cv_scores_nb)\n",
    "print(\"CV score of Naive Bayes is %f\" % NaiveBayes_CV_score)"
   ]
  },
  {
   "cell_type": "markdown",
   "metadata": {},
   "source": [
    "### Part 6: Tuning Support Vector Machine\n",
    "- kernel: 'linear', 'poly', 'rbf'\n",
    "- C: from logarithmic range 1e-2 to 1e2\n",
    "\n"
   ]
  },
  {
   "cell_type": "code",
   "execution_count": 18,
   "metadata": {},
   "outputs": [
    {
     "name": "stdout",
     "output_type": "stream",
     "text": [
      "Best: 0.991304 using {'C': 15.546645556090532, 'kernel': 'rbf'}\n",
      "0.979668 (0.014763) with: {'C': 18.82485346441966, 'kernel': 'poly'}\n",
      "0.938960 (0.019204) with: {'C': 0.47434119416178094, 'kernel': 'poly'}\n",
      "0.985422 (0.013059) with: {'C': 0.2960049489921704, 'kernel': 'linear'}\n",
      "0.985465 (0.009166) with: {'C': 4.569483147082367, 'kernel': 'rbf'}\n",
      "0.982523 (0.010937) with: {'C': 38.626333898839455, 'kernel': 'linear'}\n",
      "0.976726 (0.014814) with: {'C': 0.1281404941852073, 'kernel': 'rbf'}\n",
      "0.979625 (0.014831) with: {'C': 0.07469217142681027, 'kernel': 'linear'}\n",
      "0.979625 (0.011659) with: {'C': 64.27942916855599, 'kernel': 'linear'}\n",
      "0.982523 (0.010937) with: {'C': 14.425288993595567, 'kernel': 'linear'}\n",
      "0.982523 (0.010937) with: {'C': 43.12922840174292, 'kernel': 'linear'}\n",
      "0.962191 (0.007208) with: {'C': 1.2314291782963311, 'kernel': 'poly'}\n",
      "0.982523 (0.010937) with: {'C': 1.659993508175006, 'kernel': 'rbf'}\n",
      "0.970929 (0.015877) with: {'C': 0.023991401364988413, 'kernel': 'linear'}\n",
      "0.985465 (0.009166) with: {'C': 7.50669647379448, 'kernel': 'rbf'}\n",
      "0.982609 (0.016901) with: {'C': 26.87043833361484, 'kernel': 'poly'}\n",
      "0.985465 (0.015876) with: {'C': 0.34506708415218307, 'kernel': 'rbf'}\n",
      "0.979668 (0.014763) with: {'C': 20.198083405105347, 'kernel': 'poly'}\n",
      "0.962191 (0.007208) with: {'C': 0.98835010978861, 'kernel': 'poly'}\n",
      "0.985465 (0.009166) with: {'C': 2.9719263798521833, 'kernel': 'linear'}\n",
      "0.962191 (0.007208) with: {'C': 1.301757505223338, 'kernel': 'poly'}\n",
      "0.950554 (0.011726) with: {'C': 0.6246366117926831, 'kernel': 'poly'}\n",
      "0.976769 (0.011563) with: {'C': 89.72958302090059, 'kernel': 'poly'}\n",
      "0.956394 (0.009170) with: {'C': 0.010998033080286738, 'kernel': 'linear'}\n",
      "0.874979 (0.007446) with: {'C': 0.09676989973567343, 'kernel': 'poly'}\n",
      "0.970929 (0.015877) with: {'C': 0.022859137989877567, 'kernel': 'linear'}\n",
      "0.985465 (0.009166) with: {'C': 3.3138970874536318, 'kernel': 'linear'}\n",
      "0.988363 (0.005819) with: {'C': 19.733534225821707, 'kernel': 'rbf'}\n",
      "0.985465 (0.000085) with: {'C': 56.657105600300774, 'kernel': 'rbf'}\n",
      "0.985422 (0.009301) with: {'C': 19.063757809765104, 'kernel': 'linear'}\n",
      "0.965090 (0.011693) with: {'C': 1.6916048577381622, 'kernel': 'poly'}\n",
      "0.988363 (0.005819) with: {'C': 19.252144841280632, 'kernel': 'rbf'}\n",
      "0.854604 (0.013509) with: {'C': 0.0621688137205117, 'kernel': 'poly'}\n",
      "0.982523 (0.010937) with: {'C': 29.363388990015544, 'kernel': 'linear'}\n",
      "0.892455 (0.014674) with: {'C': 0.11805141288598366, 'kernel': 'poly'}\n",
      "0.976769 (0.014755) with: {'C': 8.599988131820671, 'kernel': 'poly'}\n",
      "0.962191 (0.007208) with: {'C': 0.9981889460705533, 'kernel': 'poly'}\n",
      "0.985422 (0.013059) with: {'C': 15.500098587955948, 'kernel': 'linear'}\n",
      "0.979668 (0.014763) with: {'C': 3.95400060123506, 'kernel': 'poly'}\n",
      "0.985465 (0.009166) with: {'C': 0.8295816269755502, 'kernel': 'linear'}\n",
      "0.988363 (0.005819) with: {'C': 50.0258707856363, 'kernel': 'rbf'}\n",
      "0.962191 (0.007208) with: {'C': 1.462850059725596, 'kernel': 'poly'}\n",
      "0.979668 (0.014763) with: {'C': 21.988789799108925, 'kernel': 'poly'}\n",
      "0.976769 (0.014755) with: {'C': 8.201055117009732, 'kernel': 'poly'}\n",
      "0.985465 (0.009166) with: {'C': 3.6005178838703706, 'kernel': 'linear'}\n",
      "0.973828 (0.014218) with: {'C': 0.01813108509606951, 'kernel': 'linear'}\n",
      "0.982566 (0.010834) with: {'C': 3.6449370041783498, 'kernel': 'rbf'}\n",
      "0.933120 (0.014869) with: {'C': 0.4270501370865646, 'kernel': 'poly'}\n",
      "0.979668 (0.014763) with: {'C': 15.13344981962662, 'kernel': 'poly'}\n",
      "0.985465 (0.009166) with: {'C': 3.010363085716549, 'kernel': 'linear'}\n",
      "0.956394 (0.009170) with: {'C': 0.010778304564740571, 'kernel': 'linear'}\n",
      "0.985422 (0.009301) with: {'C': 19.39833894122489, 'kernel': 'linear'}\n",
      "0.938960 (0.019204) with: {'C': 0.47313430874451745, 'kernel': 'poly'}\n",
      "0.985465 (0.009166) with: {'C': 7.052315915775316, 'kernel': 'linear'}\n",
      "0.985465 (0.009166) with: {'C': 12.049256597179413, 'kernel': 'rbf'}\n",
      "0.953453 (0.011031) with: {'C': 0.7726011187075256, 'kernel': 'poly'}\n",
      "0.918585 (0.007324) with: {'C': 0.27774330938788394, 'kernel': 'poly'}\n",
      "0.982523 (0.016961) with: {'C': 0.702428743809686, 'kernel': 'rbf'}\n",
      "0.985465 (0.009166) with: {'C': 11.659163592530362, 'kernel': 'rbf'}\n",
      "0.982523 (0.016961) with: {'C': 0.968198636729992, 'kernel': 'rbf'}\n",
      "0.988363 (0.010857) with: {'C': 1.641712572580972, 'kernel': 'linear'}\n",
      "0.837212 (0.016847) with: {'C': 0.053701237303926175, 'kernel': 'poly'}\n",
      "0.776130 (0.015237) with: {'C': 0.018126052207808368, 'kernel': 'poly'}\n",
      "0.787766 (0.011978) with: {'C': 0.020512284687763237, 'kernel': 'poly'}\n",
      "0.982523 (0.010937) with: {'C': 0.05045384795916895, 'kernel': 'linear'}\n",
      "0.982523 (0.016961) with: {'C': 1.0381104326787287, 'kernel': 'rbf'}\n",
      "0.985465 (0.009166) with: {'C': 2.6180460809198385, 'kernel': 'linear'}\n",
      "0.985465 (0.009166) with: {'C': 2.6265993615151486, 'kernel': 'linear'}\n",
      "0.982566 (0.014191) with: {'C': 0.1303347997342317, 'kernel': 'linear'}\n",
      "0.796505 (0.009243) with: {'C': 0.010807192838691224, 'kernel': 'rbf'}\n",
      "0.982523 (0.016961) with: {'C': 0.44364040462983845, 'kernel': 'rbf'}\n",
      "0.927280 (0.020682) with: {'C': 0.03949049627250126, 'kernel': 'rbf'}\n",
      "0.988363 (0.010857) with: {'C': 0.16979326531520092, 'kernel': 'linear'}\n",
      "0.985465 (0.009166) with: {'C': 2.595973539050974, 'kernel': 'rbf'}\n",
      "0.982566 (0.014191) with: {'C': 0.11602877858349954, 'kernel': 'linear'}\n",
      "0.985465 (0.009166) with: {'C': 2.070307005068492, 'kernel': 'rbf'}\n",
      "0.776130 (0.015237) with: {'C': 0.017817617639922904, 'kernel': 'poly'}\n",
      "0.982523 (0.016961) with: {'C': 0.2597724360166061, 'kernel': 'rbf'}\n",
      "0.956351 (0.009438) with: {'C': 0.8820905328275684, 'kernel': 'poly'}\n",
      "0.973870 (0.010800) with: {'C': 9.600758171680114, 'kernel': 'poly'}\n",
      "0.979625 (0.014831) with: {'C': 0.11383926762199861, 'kernel': 'linear'}\n",
      "0.991304 (0.007100) with: {'C': 15.546645556090532, 'kernel': 'rbf'}\n",
      "0.982523 (0.010937) with: {'C': 48.155310356116956, 'kernel': 'linear'}\n",
      "0.808142 (0.010754) with: {'C': 0.0308197532259889, 'kernel': 'poly'}\n",
      "0.970929 (0.015877) with: {'C': 0.065161879920332, 'kernel': 'rbf'}\n",
      "0.811040 (0.009233) with: {'C': 0.03379719176491289, 'kernel': 'poly'}\n",
      "0.802302 (0.007665) with: {'C': 0.01567370409081454, 'kernel': 'rbf'}\n",
      "0.976769 (0.011563) with: {'C': 95.77886334990204, 'kernel': 'poly'}\n",
      "0.982523 (0.010937) with: {'C': 12.130283505220897, 'kernel': 'linear'}\n",
      "0.706479 (0.034107) with: {'C': 0.010195738968555775, 'kernel': 'poly'}\n",
      "0.985465 (0.009166) with: {'C': 5.8028911253243285, 'kernel': 'rbf'}\n",
      "0.985422 (0.013059) with: {'C': 0.27066348697420867, 'kernel': 'linear'}\n",
      "0.985422 (0.013059) with: {'C': 1.5929847032916045, 'kernel': 'rbf'}\n",
      "0.979668 (0.011573) with: {'C': 53.330191274775245, 'kernel': 'poly'}\n",
      "0.982566 (0.005776) with: {'C': 83.36828202985158, 'kernel': 'rbf'}\n",
      "0.979668 (0.014763) with: {'C': 4.853857190039767, 'kernel': 'poly'}\n",
      "0.982523 (0.010937) with: {'C': 10.292492576833297, 'kernel': 'linear'}\n",
      "0.982523 (0.016961) with: {'C': 0.5222811831328233, 'kernel': 'rbf'}\n",
      "0.808142 (0.010754) with: {'C': 0.029289047754328296, 'kernel': 'poly'}\n",
      "0.979668 (0.014763) with: {'C': 16.181985020962514, 'kernel': 'poly'}\n",
      "0.988321 (0.010983) with: {'C': 15.843782579225808, 'kernel': 'linear'}\n"
     ]
    }
   ],
   "source": [
    "svm = SVC()\n",
    "dist = {'C': loguniform(1e-2, 1e2), 'kernel': ['linear', 'poly', 'rbf']}\n",
    "rand_search = RandomizedSearchCV(svm, param_distributions=dist, cv=5, scoring='accuracy',n_iter=100)\n",
    "rand_result = rand_search.fit(X_train, y_train)\n",
    "\n",
    "print(\"Best: %f using %s\" % (rand_search.best_score_, rand_search.best_params_))\n",
    "means = rand_result.cv_results_['mean_test_score']\n",
    "stds = rand_result.cv_results_['std_test_score']\n",
    "params = rand_result.cv_results_['params']\n",
    "for mean, stdev, param in zip(means, stds, params):\n",
    "    print(\"%f (%f) with: %r\" % (mean, stdev, param))"
   ]
  },
  {
   "cell_type": "code",
   "execution_count": 19,
   "metadata": {},
   "outputs": [
    {
     "name": "stdout",
     "output_type": "stream",
     "text": [
      "CV score of Support Vector Machine is 0.989121\n"
     ]
    }
   ],
   "source": [
    "svm = SVC(kernel = 'rbf', C = 15.546645556090532)\n",
    "svm.fit(X_train, y_train)\n",
    "cv_scores_svm = cross_val_score(svm, X_train, y_train, cv=5, scoring='f1_macro')\n",
    "SupportVectorMachine_CV_score = np.mean(cv_scores_svm)\n",
    "print(\"CV score of Support Vector Machine is %f\" % SupportVectorMachine_CV_score)"
   ]
  },
  {
   "cell_type": "markdown",
   "metadata": {},
   "source": [
    "### Part 7:  Tuning K Nearest Neighbor\n",
    "- n_neighbors: from range 1 to 10\n"
   ]
  },
  {
   "cell_type": "code",
   "execution_count": 20,
   "metadata": {},
   "outputs": [
    {
     "name": "stdout",
     "output_type": "stream",
     "text": [
      "Best: 0.991304 using {'n_neighbors': 5}\n",
      "0.982609 (0.023188) with: {'n_neighbors': 1}\n",
      "0.979668 (0.014763) with: {'n_neighbors': 2}\n",
      "0.988406 (0.010845) with: {'n_neighbors': 3}\n",
      "0.988363 (0.005819) with: {'n_neighbors': 4}\n",
      "0.991304 (0.007100) with: {'n_neighbors': 5}\n",
      "0.988363 (0.005819) with: {'n_neighbors': 6}\n",
      "0.988363 (0.005819) with: {'n_neighbors': 7}\n",
      "0.985465 (0.009166) with: {'n_neighbors': 8}\n",
      "0.985465 (0.009166) with: {'n_neighbors': 9}\n"
     ]
    }
   ],
   "source": [
    "knn = KNeighborsClassifier()\n",
    "dict = {'n_neighbors': range(1,10)}\n",
    "rand_search = RandomizedSearchCV(knn, param_distributions=dict, cv=5, scoring='accuracy',n_iter=100)\n",
    "rand_result = rand_search.fit(X_train, y_train)\n",
    "\n",
    "print(\"Best: %f using %s\" % (rand_search.best_score_, rand_search.best_params_))\n",
    "means = rand_result.cv_results_['mean_test_score']\n",
    "stds = rand_result.cv_results_['std_test_score']\n",
    "params = rand_result.cv_results_['params']\n",
    "for mean, stdev, param in zip(means, stds, params):\n",
    "    print(\"%f (%f) with: %r\" % (mean, stdev, param))"
   ]
  },
  {
   "cell_type": "code",
   "execution_count": 21,
   "metadata": {},
   "outputs": [
    {
     "name": "stdout",
     "output_type": "stream",
     "text": [
      "CV score of K Nearest Neighbor is 0.988988\n"
     ]
    }
   ],
   "source": [
    "knn = KNeighborsClassifier(n_neighbors = 5)\n",
    "knn.fit(X_train, y_train)\n",
    "cv_scores_knn = cross_val_score(knn, X_train, y_train, cv=5, scoring='f1_macro')\n",
    "KNearestNeighbor_CV_score = np.mean(cv_scores_knn)\n",
    "print(\"CV score of K Nearest Neighbor is %f\" % KNearestNeighbor_CV_score)"
   ]
  },
  {
   "cell_type": "markdown",
   "metadata": {},
   "source": [
    "### Part 8: Even higher performance!\n",
    "\n"
   ]
  },
  {
   "cell_type": "code",
   "execution_count": 22,
   "metadata": {},
   "outputs": [
    {
     "name": "stdout",
     "output_type": "stream",
     "text": [
      "CV score of Support Vector Machine is 0.989121\n"
     ]
    }
   ],
   "source": [
    "# You can try many settings offline, but only put one final model for your final submission. \n",
    "# TA will evaluate ONLY ONE model here.\n",
    "svm = SVC(kernel = 'rbf', C = 15.546645556090532)\n",
    "svm.fit(X_train, y_train)\n",
    "cv_scores_svm = cross_val_score(svm, X_train, y_train, cv=5, scoring='f1_macro')\n",
    "SupportVectorMachine_CV_score = np.mean(cv_scores_svm)\n",
    "print(\"CV score of Support Vector Machine is %f\" % SupportVectorMachine_CV_score)"
   ]
  },
  {
   "cell_type": "code",
   "execution_count": null,
   "metadata": {},
   "outputs": [],
   "source": []
  }
 ],
 "metadata": {
  "kernelspec": {
   "display_name": "Python 3",
   "language": "python",
   "name": "python3"
  },
  "language_info": {
   "codemirror_mode": {
    "name": "ipython",
    "version": 3
   },
   "file_extension": ".py",
   "mimetype": "text/x-python",
   "name": "python",
   "nbconvert_exporter": "python",
   "pygments_lexer": "ipython3",
   "version": "3.8.8"
  }
 },
 "nbformat": 4,
 "nbformat_minor": 4
}
